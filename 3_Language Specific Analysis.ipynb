{
 "cells": [
  {
   "cell_type": "markdown",
   "metadata": {},
   "source": [
    "# Language Specific Subgraph And Cliques\n",
    "\n",
    "##### 18BCE1302, 18BCE1309\n",
    "\n",
    "For each programming language there's a tag in the network. E.g 'python' will refer to the python language. So we can check the cliques that contains that node. We can also visualize the subgraph containing that node and all its neighbors with a specifed depth range.\n",
    "\n",
    "For example, we can check the ego network for java with radius 2, which means that we get the subgraph containing java and all it's direct neighbors which are 1 edge away from java and also the nodes which are 2 steps away from java.\n",
    "\n",
    "These subgraphs called Ego networks and can be used for checking shortest paths or generally conducting analysis of who is connected to whom, but cliques are helpful because it shows us the data in a more granular way.\n"
   ]
  },
  {
   "cell_type": "code",
   "execution_count": 2,
   "metadata": {},
   "outputs": [],
   "source": [
    "%matplotlib inline\n",
    "\n",
    "import pandas as pd\n",
    "import networkx as nx\n",
    "import matplotlib.pyplot as plt\n",
    "from operator import itemgetter\n",
    "from networkx.algorithms import community"
   ]
  },
  {
   "cell_type": "code",
   "execution_count": 3,
   "metadata": {},
   "outputs": [],
   "source": [
    "# Reading the datasets\n",
    "G = nx.Graph()\n",
    "df_nodes = pd.read_csv('datasets/stack_network_nodes.csv')\n",
    "df_edges = pd.read_csv('datasets/stack_network_edges.csv')\n",
    "\n",
    "# Adding edges and nodes from dataset to graph G\n",
    "for index, row in df_nodes.iterrows():\n",
    "    G.add_node(row['name'], group=row['group'], nodesize=row['nodesize'])\n",
    "    \n",
    "for index, row in df_edges.iterrows():\n",
    "    G.add_weighted_edges_from([(row['Source'], row['Target'], row['Weight'])])"
   ]
  },
  {
   "cell_type": "code",
   "execution_count": 4,
   "metadata": {},
   "outputs": [
    {
     "name": "stdout",
     "output_type": "stream",
     "text": [
      "['embedded', 'qt', 'spring-mvc', 'web-services', 'python', 'ios', 'java-ee', 'hibernate', 'java', 'c++', 'rest', 'spring', 'spring-boot', 'android-studio', 'jsp', 'c', 'maven', 'android']\n"
     ]
    }
   ],
   "source": [
    "# All direct neighbors of java which are 1 edge away and also the nodes which are 2 steps away from java\n",
    "print(nx.ego_graph(G,'java',radius=2).nodes())"
   ]
  },
  {
   "cell_type": "code",
   "execution_count": 5,
   "metadata": {},
   "outputs": [
    {
     "data": {
      "text/plain": [
       "[['c++', 'java', 'c'],\n",
       " ['spring', 'spring-mvc', 'hibernate', 'java', 'java-ee'],\n",
       " ['spring', 'spring-mvc', 'hibernate', 'java', 'jsp'],\n",
       " ['android', 'java']]"
      ]
     },
     "execution_count": 5,
     "metadata": {},
     "output_type": "execute_result"
    }
   ],
   "source": [
    "# All cliques containg java\n",
    "nx.algorithms.clique.cliques_containing_node(G,\"java\")\n",
    "\n"
   ]
  },
  {
   "cell_type": "code",
   "execution_count": 6,
   "metadata": {},
   "outputs": [
    {
     "data": {
      "text/plain": [
       "[['python', 'flask', 'django'],\n",
       " ['python', 'machine-learning', 'r'],\n",
       " ['python', 'c++', 'c'],\n",
       " ['python', 'linux']]"
      ]
     },
     "execution_count": 6,
     "metadata": {},
     "output_type": "execute_result"
    }
   ],
   "source": [
    "# All cliques containg python\n",
    "nx.algorithms.clique.cliques_containing_node(G,\"python\")\n",
    "\n"
   ]
  },
  {
   "cell_type": "code",
   "execution_count": 7,
   "metadata": {},
   "outputs": [
    {
     "data": {
      "text/plain": [
       "[['python', 'c++', 'c'], ['c++', 'qt'], ['c++', 'java', 'c']]"
      ]
     },
     "execution_count": 7,
     "metadata": {},
     "output_type": "execute_result"
    }
   ],
   "source": [
    "# All cliques containg c++\n",
    "nx.algorithms.clique.cliques_containing_node(G,\"c++\")\n",
    "\n"
   ]
  },
  {
   "cell_type": "code",
   "execution_count": 20,
   "metadata": {},
   "outputs": [
    {
     "data": {
      "text/plain": [
       "[['photoshop', 'css'],\n",
       " ['testing', 'selenium'],\n",
       " ['docker', 'go'],\n",
       " ['python', 'linux'],\n",
       " ['rest', 'json'],\n",
       " ['rest', 'api'],\n",
       " ['regex', 'perl'],\n",
       " ['android-studio', 'android'],\n",
       " ['ionic-framework', 'angularjs'],\n",
       " ['eclipse', 'maven'],\n",
       " ['c++', 'qt'],\n",
       " ['matlab', 'r'],\n",
       " ['unity3d', 'c#'],\n",
       " ['unix', 'linux'],\n",
       " ['android', 'ios'],\n",
       " ['android', 'java'],\n",
       " ['drupal', 'wordpress'],\n",
       " ['cloud', 'amazon-web-services'],\n",
       " ['xml', 'json'],\n",
       " ['c', 'embedded'],\n",
       " ['vue.js', 'laravel'],\n",
       " ['scala', 'haskell'],\n",
       " ['tdd', 'agile'],\n",
       " ['jenkins', 'git'],\n",
       " ['jenkins', 'maven'],\n",
       " ['asp.net-web-api', 'angularjs'],\n",
       " ['azure', 'amazon-web-services'],\n",
       " ['apache', 'mysql'],\n",
       " ['angular', 'typescript'],\n",
       " ['nginx', 'redis'],\n",
       " ['typescript', 'angular2'],\n",
       " ['github', 'git'],\n",
       " ['windows', 'powershell'],\n",
       " ['postgresql', 'django'],\n",
       " ['linux', 'ubuntu'],\n",
       " ['mvc', 'asp.net'],\n",
       " ['c#', 'visual-studio'],\n",
       " ['c#', 'xamarin'],\n",
       " ['angular2', 'angularjs'],\n",
       " ['jquery', 'asp.net'],\n",
       " ['docker', 'devops', 'jenkins'],\n",
       " ['docker', 'devops', 'amazon-web-services'],\n",
       " ['python', 'flask', 'django'],\n",
       " ['python', 'machine-learning', 'r'],\n",
       " ['python', 'c++', 'c'],\n",
       " ['osx', 'ios', 'objective-c'],\n",
       " ['osx', 'windows', 'linux'],\n",
       " ['excel-vba', 'vba', 'excel'],\n",
       " ['shell', 'bash', 'linux'],\n",
       " ['ruby', 'ruby-on-rails', 'postgresql'],\n",
       " ['mongodb', 'redis', 'elasticsearch'],\n",
       " ['mongodb', 'redis', 'postgresql'],\n",
       " ['mongodb', 'mysql', 'postgresql'],\n",
       " ['c++', 'java', 'c'],\n",
       " ['sql', 'oracle', 'plsql'],\n",
       " ['scala', 'apache-spark', 'hadoop'],\n",
       " ['apache', 'nginx', 'linux'],\n",
       " ['linux', 'git', 'bash'],\n",
       " ['jquery', 'twitter-bootstrap-3', 'html5'],\n",
       " ['jquery', 'css', 'bootstrap'],\n",
       " ['jquery', 'json', 'ajax'],\n",
       " ['react-native', 'redux', 'reactjs', 'node.js'],\n",
       " ['rest', 'web-services', 'spring', 'hibernate'],\n",
       " ['less', 'html5', 'sass', 'css'],\n",
       " ['spring', 'spring-mvc', 'hibernate', 'spring-boot'],\n",
       " ['spring', 'spring-mvc', 'hibernate', 'maven'],\n",
       " ['sql', 'c#', 'asp.net', 'sql-server'],\n",
       " ['asp.net-web-api', 'c#', 'asp.net', 'azure'],\n",
       " ['azure', 'c#', 'asp.net', '.net'],\n",
       " ['redux', 'express', 'reactjs', 'node.js'],\n",
       " ['sql-server', 'c#', 'asp.net', 'vb.net'],\n",
       " ['laravel', 'codeigniter', 'mysql', 'php'],\n",
       " ['node.js', 'javascript', 'reactjs', 'angularjs'],\n",
       " ['jquery', 'codeigniter', 'php', 'wordpress'],\n",
       " ['reactjs', 'sass', 'javascript', 'angularjs'],\n",
       " ['objective-c', 'xcode', 'ios', 'swift', 'iphone'],\n",
       " ['mongodb', 'node.js', 'reactjs', 'angularjs', 'express'],\n",
       " ['spring', 'spring-mvc', 'hibernate', 'java', 'java-ee'],\n",
       " ['spring', 'spring-mvc', 'hibernate', 'java', 'jsp'],\n",
       " ['jquery', 'codeigniter', 'php', 'ajax', 'mysql'],\n",
       " ['jquery', 'css', 'wordpress', 'html5', 'php'],\n",
       " ['jquery', 'css', 'javascript', 'html5', 'php'],\n",
       " ['jquery', 'css', 'javascript', 'html', 'sass'],\n",
       " ['entity-framework', 'c#', 'asp.net', 'wcf', 'sql-server', 'asp.net-web-api'],\n",
       " ['jquery', 'css', 'javascript', 'ajax', 'mysql', 'php'],\n",
       " ['jquery', 'css', 'javascript', 'mysql', 'html', 'php'],\n",
       " ['wpf', 'c#', 'asp.net', 'wcf', 'entity-framework', '.net', 'linq'],\n",
       " ['entity-framework', 'c#', 'asp.net', 'wcf', 'sql-server', '.net', 'linq'],\n",
       " ['jquery',\n",
       "  'css',\n",
       "  'javascript',\n",
       "  'html5',\n",
       "  'sass',\n",
       "  'angularjs',\n",
       "  'twitter-bootstrap']]"
      ]
     },
     "execution_count": 20,
     "metadata": {},
     "output_type": "execute_result"
    }
   ],
   "source": [
    "# All cliques in G, sorted\n",
    "sorted_cliques = sorted(list(nx.find_cliques(G)),key=len)\n",
    "sorted_cliques"
   ]
  },
  {
   "cell_type": "code",
   "execution_count": 23,
   "metadata": {},
   "outputs": [
    {
     "data": {
      "text/plain": [
       "{'.net',\n",
       " 'asp.net',\n",
       " 'c#',\n",
       " 'css',\n",
       " 'entity-framework',\n",
       " 'html',\n",
       " 'javascript',\n",
       " 'jquery',\n",
       " 'linq',\n",
       " 'mysql',\n",
       " 'php',\n",
       " 'sql-server',\n",
       " 'wcf',\n",
       " 'wpf'}"
      ]
     },
     "execution_count": 23,
     "metadata": {},
     "output_type": "execute_result"
    }
   ],
   "source": [
    "# Picking nodes from the 3 large cliques from the sorted list\n",
    "max_clique_nodes = set()\n",
    "\n",
    "for nodelist in sorted_cliques[-4:-1]:\n",
    "    for node in nodelist:\n",
    "        max_clique_nodes.add(node)\n",
    "\n",
    "max_clique_nodes"
   ]
  },
  {
   "cell_type": "code",
   "execution_count": 22,
   "metadata": {},
   "outputs": [],
   "source": [
    "# Forming a graph for the nodes in max_clique_nodes\n",
    "max_clique = G.subgraph(max_clique_nodes)\n"
   ]
  },
  {
   "cell_type": "code",
   "execution_count": 24,
   "metadata": {},
   "outputs": [
    {
     "name": "stdout",
     "output_type": "stream",
     "text": [
      "Name: \n",
      "Type: Graph\n",
      "Number of nodes: 14\n",
      "Number of edges: 43\n",
      "Average degree:   6.1429\n"
     ]
    }
   ],
   "source": [
    "print(nx.info(max_clique))\n",
    "\n"
   ]
  },
  {
   "cell_type": "code",
   "execution_count": 25,
   "metadata": {},
   "outputs": [],
   "source": [
    "# color coded by groups\n",
    "def draw_graph(G,size):\n",
    "    nodes = G.nodes()\n",
    "    color_map = {1:'#f09494', 2:'#eebcbc', 3:'#72bbd0', 4:'#91f0a1', 5:'#629fff', 6:'#bcc2f2',  \n",
    "             7:'#eebcbc', 8:'#f1f0c0', 9:'#d2ffe7', 10:'#caf3a6', 11:'#ffdf55', 12:'#ef77aa', \n",
    "             13:'#d6dcff', 14:'#d2f5f0'}\n",
    "    node_color= [color_map[d['group']] for n,d in G.nodes(data=True)]\n",
    "    node_size = [d['nodesize']*10 for n,d in G.nodes(data=True)]\n",
    "    pos = nx.drawing.spring_layout(G,k=0.80,iterations=60)\n",
    "    plt.figure(figsize=size)\n",
    "    nx.draw_networkx(G,pos=pos,node_color=node_color,node_size=node_size,edge_color='#FFDEA2')\n",
    "    plt.show()"
   ]
  },
  {
   "cell_type": "code",
   "execution_count": 26,
   "metadata": {
    "scrolled": false
   },
   "outputs": [
    {
     "data": {
      "image/png": "[encoded data removed]",
      "text/plain": [
       "<Figure size 720x720 with 1 Axes>"
      ]
     },
     "metadata": {},
     "output_type": "display_data"
    }
   ],
   "source": [
    "# relation between picked nodes\n",
    "draw_graph(max_clique,size=(10,10))"
   ]
  },
  {
   "cell_type": "markdown",
   "metadata": {},
   "source": [
    "# Homophily"
   ]
  },
  {
   "cell_type": "markdown",
   "metadata": {},
   "source": [
    "Homophily or Assortativity measures the similarity of connections in the graph with respect to the node degree."
   ]
  },
  {
   "cell_type": "code",
   "execution_count": 27,
   "metadata": {},
   "outputs": [
    {
     "name": "stdout",
     "output_type": "stream",
     "text": [
      "0.1889\n"
     ]
    }
   ],
   "source": [
    "# Positive values of r indicate a correlation between nodes of similar degree\n",
    "# Negative values indicate relationships between nodes of different degree\n",
    "print(\"%.4f\"% nx.degree_assortativity_coefficient(G))"
   ]
  },
  {
   "cell_type": "code",
   "execution_count": 28,
   "metadata": {},
   "outputs": [
    {
     "name": "stdout",
     "output_type": "stream",
     "text": [
      "-0.0146\n"
     ]
    }
   ],
   "source": [
    "# Homophily with respect to nodesize attribute\n",
    "print(\"%.4f\"% nx.attribute_assortativity_coefficient(G,'nodesize'))"
   ]
  },
  {
   "cell_type": "code",
   "execution_count": null,
   "metadata": {},
   "outputs": [],
   "source": []
  }
 ],
 "metadata": {
  "kernelspec": {
   "display_name": "Python 3",
   "language": "python",
   "name": "python3"
  },
  "language_info": {
   "codemirror_mode": {
    "name": "ipython",
    "version": 3
   },
   "file_extension": ".py",
   "mimetype": "text/x-python",
   "name": "python",
   "nbconvert_exporter": "python",
   "pygments_lexer": "ipython3",
   "version": "3.9.1"
  }
 },
 "nbformat": 4,
 "nbformat_minor": 4
}
